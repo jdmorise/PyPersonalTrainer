{
 "cells": [
  {
   "cell_type": "code",
   "execution_count": null,
   "metadata": {
    "collapsed": true
   },
   "outputs": [],
   "source": [
    "#-------------------------------------------------------------------------\n",
    "# \n",
    "# (C) 2019, jdmorise@yahoo.com\n",
    "#  \n",
    "#    This program is free software: you can redistribute it and/or modify\n",
    "#    it under the terms of the GNU General Public License as published by\n",
    "#    the Free Software Foundation, either version 3 of the License, or\n",
    "#    (at your option) any later version.\n",
    "#\n",
    "#    This program is distributed in the hope that it will be useful,\n",
    "#    but WITHOUT ANY WARRANTY; without even the implied warranty of\n",
    "#    MERCHANTABILITY or FITNESS FOR A PARTICULAR PURPOSE.  See the\n",
    "#    GNU General Public License for more details.\n",
    "#\n",
    "#    You should have received a copy of the GNU General Public License\n",
    "#    along with this program.  If not, see <https://www.gnu.org/licenses/>.\n",
    "#\n",
    "#\n",
    "#-------------------------------------------------------------------------"
   ]
  },
  {
   "cell_type": "code",
   "execution_count": 1,
   "metadata": {
    "collapsed": false
   },
   "outputs": [
    {
     "name": "stdout",
     "output_type": "stream",
     "text": [
      "-------------------------------------------------------------------------\n",
      "PyPersonalTrainer V 0.7.0\n",
      "Training analyzer for Polar HRM and GPX files\n",
      "(c) 2019 JDMORISE at YAHOO.COM\n",
      "-------------------------------------------------------------------------\n",
      "usage: PyPersonalTrainer.py [-h] [-m {scan,SCAN,add,ADD}] [-l] [-f]\n",
      "                            [-o OVERVIEW_WORKBOOK_FILENAME]\n",
      "                            [-sf SESSION_WORKBOOK_FOLDERNAME]\n",
      "                            [-tf TRAINING_FOLDERNAME] [-t TRAINING_FILENAME]\n",
      "\n",
      "optional arguments:\n",
      "  -h, --help            show this help message and exit\n",
      "  -m {scan,SCAN,add,ADD}, --mode {scan,SCAN,add,ADD}\n",
      "                        Operation Mode: SCAN checks and processes new files in\n",
      "                        training folder, ADD will add an individual file (-t\n",
      "                        argument required)\n",
      "  -l, --license         show license terms\n",
      "  -f, --force           force processing of files\n",
      "  -o OVERVIEW_WORKBOOK_FILENAME, --overview_workbook_filename OVERVIEW_WORKBOOK_FILENAME\n",
      "                        Filename of excel worksheet where monthly and yearly\n",
      "                        training overview will be stored\n",
      "  -sf SESSION_WORKBOOK_FOLDERNAME, --session_workbook_foldername SESSION_WORKBOOK_FOLDERNAME\n",
      "                        Foldername of excel worksheet where individual\n",
      "                        training sessions will be stored\n",
      "  -tf TRAINING_FOLDERNAME, --training_foldername TRAINING_FOLDERNAME\n",
      "                        Foldername where gpx and hrm training data is stored\n",
      "  -t TRAINING_FILENAME, --training_filename TRAINING_FILENAME\n",
      "                        GPX Filename of individual training session\n"
     ]
    }
   ],
   "source": [
    "%run PyPersonalTrainer.py -h"
   ]
  },
  {
   "cell_type": "code",
   "execution_count": null,
   "metadata": {
    "collapsed": true
   },
   "outputs": [],
   "source": [
    "#Example with scan of folder, new training files were added"
   ]
  },
  {
   "cell_type": "code",
   "execution_count": 2,
   "metadata": {
    "collapsed": false
   },
   "outputs": [
    {
     "name": "stdout",
     "output_type": "stream",
     "text": [
      "-------------------------------------------------------------------------\n",
      "PyPersonalTrainer V 0.7.0\n",
      "Training analyzer for Polar HRM and GPX files\n",
      "(c) 2019 JDMORISE at YAHOO.COM\n",
      "-------------------------------------------------------------------------\n",
      "Session Sheet:  ../Trainingsheets_2019/19010601.xlsx  exists\n",
      "Session Sheet:  ../Trainingsheets_2019/19011001.xlsx  exists\n",
      "Session Sheet:  ../Trainingsheets_2019/19011301.xlsx  exists\n",
      "Session Sheet:  ../Trainingsheets_2019/19011701.xlsx  exists\n",
      "Session Sheet:  ../Trainingsheets_2019/19012701.xlsx  exists\n",
      "Session Sheet:  ../Trainingsheets_2019/19013101.xlsx  exists\n",
      "Session Sheet:  ../Trainingsheets_2019/19020301.xlsx  exists\n",
      "Session Sheet:  ../Trainingsheets_2019/19022101.xlsx  exists\n",
      "Session Sheet:  ../Trainingsheets_2019/19022701.xlsx  exists\n",
      "Session Sheet:  ../Trainingsheets_2019/19030901.xlsx  exists\n",
      "Session Sheet:  ../Trainingsheets_2019/19031201.xlsx  exists\n",
      "Session Sheet:  ../Trainingsheets_2019/19031401.xlsx  exists\n",
      "Session Sheet:  ../Trainingsheets_2019/19031701.xlsx  exists\n",
      "Session Sheet:  ../Trainingsheets_2019/19032401.xlsx  written\n",
      "-------------------------------------------------------------------------\n",
      "Execution Finished\n"
     ]
    }
   ],
   "source": [
    "%run PyPersonalTrainer.py -m scan -o ../Ueberblick_2019.xlsx -tf ../Trainingsdaten_2019 -sf ../Trainingsheets_2019"
   ]
  },
  {
   "cell_type": "code",
   "execution_count": null,
   "metadata": {
    "collapsed": true
   },
   "outputs": [],
   "source": [
    "# Example with use of force flag "
   ]
  },
  {
   "cell_type": "code",
   "execution_count": 3,
   "metadata": {
    "collapsed": false
   },
   "outputs": [
    {
     "name": "stdout",
     "output_type": "stream",
     "text": [
      "-------------------------------------------------------------------------\n",
      "PyPersonalTrainer V 0.7.0\n",
      "Training analyzer for Polar HRM and GPX files\n",
      "(c) 2019 JDMORISE at YAHOO.COM\n",
      "-------------------------------------------------------------------------\n",
      "Session Sheet:  ../Trainingsheets_2019/19010601.xlsx  written\n",
      "Session Sheet:  ../Trainingsheets_2019/19011001.xlsx  written\n",
      "Session Sheet:  ../Trainingsheets_2019/19011301.xlsx  written\n",
      "Session Sheet:  ../Trainingsheets_2019/19011701.xlsx  written\n",
      "Session Sheet:  ../Trainingsheets_2019/19012701.xlsx  written\n",
      "Session Sheet:  ../Trainingsheets_2019/19013101.xlsx  written\n",
      "Session Sheet:  ../Trainingsheets_2019/19020301.xlsx  written\n",
      "Session Sheet:  ../Trainingsheets_2019/19022101.xlsx  written\n",
      "Session Sheet:  ../Trainingsheets_2019/19022701.xlsx  written\n",
      "Session Sheet:  ../Trainingsheets_2019/19030901.xlsx  written\n",
      "Session Sheet:  ../Trainingsheets_2019/19031201.xlsx  written\n",
      "Session Sheet:  ../Trainingsheets_2019/19031401.xlsx  written\n",
      "Session Sheet:  ../Trainingsheets_2019/19031701.xlsx  written\n",
      "Session Sheet:  ../Trainingsheets_2019/19032401.xlsx  written\n",
      "-------------------------------------------------------------------------\n",
      "Execution Finished\n"
     ]
    }
   ],
   "source": [
    "%run PyPersonalTrainer.py -f -m scan -o ../Ueberblick_2019.xlsx -tf ../Trainingsdaten_2019 -sf ../Trainingsheets_2019"
   ]
  },
  {
   "cell_type": "code",
   "execution_count": null,
   "metadata": {
    "collapsed": true
   },
   "outputs": [],
   "source": [
    "# Example with mode == add, adds an individual file to the training overview"
   ]
  },
  {
   "cell_type": "code",
   "execution_count": 4,
   "metadata": {
    "collapsed": false
   },
   "outputs": [
    {
     "name": "stdout",
     "output_type": "stream",
     "text": [
      "-------------------------------------------------------------------------\n",
      "PyPersonalTrainer V 0.7.0\n",
      "Training analyzer for Polar HRM and GPX files\n",
      "(c) 2019 JDMORISE at YAHOO.COM\n",
      "-------------------------------------------------------------------------\n",
      "Session Sheet:  ../Trainingsheets_2019/19010601.xlsx  written\n",
      "-------------------------------------------------------------------------\n",
      "Execution Finished\n"
     ]
    }
   ],
   "source": [
    "%run PyPersonalTrainer.py -m add -o ../Ueberblick_2019.xlsx -tf ../Trainingsdaten_2019  -t 19010601.gpx -sf ../Trainingsheets_2019"
   ]
  },
  {
   "cell_type": "code",
   "execution_count": 5,
   "metadata": {
    "collapsed": false
   },
   "outputs": [
    {
     "name": "stdout",
     "output_type": "stream",
     "text": [
      "-------------------------------------------------------------------------\n",
      "PyPersonalTrainer V 0.7.0\n",
      "Training analyzer for Polar HRM and GPX files\n",
      "(c) 2019 JDMORISE at YAHOO.COM\n",
      "-------------------------------------------------------------------------\n",
      " \n",
      " This program is free software: you can redistribute it and/or modify\n",
      " it under the terms of the GNU General Public License as published by\n",
      " the Free Software Foundation, either version 3 of the License, or\n",
      " (at your option) any later version.\n",
      " \n",
      " This program is distributed in the hope that it will be useful,\n",
      " but WITHOUT ANY WARRANTY; without even the implied warranty of\n",
      " MERCHANTABILITY or FITNESS FOR A PARTICULAR PURPOSE.  See the\n",
      " GNU General Public License for more details.\n",
      " \n",
      " You should have received a copy of the GNU General Public License\n",
      " along with this program.  If not, see <https://www.gnu.org/licenses/>\n",
      " \n",
      "-------------------------------------------------------------------------\n"
     ]
    }
   ],
   "source": [
    "%run PyPersonalTrainer.py -l"
   ]
  },
  {
   "cell_type": "code",
   "execution_count": null,
   "metadata": {
    "collapsed": true
   },
   "outputs": [],
   "source": []
  }
 ],
 "metadata": {
  "kernelspec": {
   "display_name": "Python 3",
   "language": "python",
   "name": "python3"
  },
  "language_info": {
   "codemirror_mode": {
    "name": "ipython",
    "version": 3
   },
   "file_extension": ".py",
   "mimetype": "text/x-python",
   "name": "python",
   "nbconvert_exporter": "python",
   "pygments_lexer": "ipython3",
   "version": "3.5.1"
  }
 },
 "nbformat": 4,
 "nbformat_minor": 0
}
